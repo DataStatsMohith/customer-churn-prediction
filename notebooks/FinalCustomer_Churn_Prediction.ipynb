{
  "nbformat": 4,
  "nbformat_minor": 0,
  "metadata": {
    "colab": {
      "provenance": []
    },
    "kernelspec": {
      "name": "python3",
      "display_name": "Python 3"
    },
    "language_info": {
      "name": "python"
    }
  },
  "cells": [
    {
      "cell_type": "markdown",
      "source": [
        "Load and Explore the Dataset"
      ],
      "metadata": {
        "id": "5_tn0kUlFu6A"
      }
    },
    {
      "cell_type": "code",
      "source": [
        "import pandas as pd\n",
        "\n",
        "# Load dataset\n",
        "df = pd.read_csv(\"WA_Fn-UseC_-Telco-Customer-Churn.csv\")\n",
        "\n",
        "# Display basic info and check for missing values\n",
        "print(\"Dataset Info:\\n\")\n",
        "print(df.info())\n",
        "print(\"\\nMissing Values Before Cleaning:\\n\")\n",
        "print(df.isnull().sum())\n"
      ],
      "metadata": {
        "colab": {
          "base_uri": "https://localhost:8080/"
        },
        "id": "3WxV_dzoQNnP",
        "outputId": "2df6899c-12e5-425e-994e-8f775b4a2fb2"
      },
      "execution_count": 2,
      "outputs": [
        {
          "output_type": "stream",
          "name": "stdout",
          "text": [
            "Dataset Info:\n",
            "\n",
            "<class 'pandas.core.frame.DataFrame'>\n",
            "RangeIndex: 7043 entries, 0 to 7042\n",
            "Data columns (total 21 columns):\n",
            " #   Column            Non-Null Count  Dtype  \n",
            "---  ------            --------------  -----  \n",
            " 0   customerID        7043 non-null   object \n",
            " 1   gender            7043 non-null   object \n",
            " 2   SeniorCitizen     7043 non-null   int64  \n",
            " 3   Partner           7043 non-null   object \n",
            " 4   Dependents        7043 non-null   object \n",
            " 5   tenure            7043 non-null   int64  \n",
            " 6   PhoneService      7043 non-null   object \n",
            " 7   MultipleLines     7043 non-null   object \n",
            " 8   InternetService   7043 non-null   object \n",
            " 9   OnlineSecurity    7043 non-null   object \n",
            " 10  OnlineBackup      7043 non-null   object \n",
            " 11  DeviceProtection  7043 non-null   object \n",
            " 12  TechSupport       7043 non-null   object \n",
            " 13  StreamingTV       7043 non-null   object \n",
            " 14  StreamingMovies   7043 non-null   object \n",
            " 15  Contract          7043 non-null   object \n",
            " 16  PaperlessBilling  7043 non-null   object \n",
            " 17  PaymentMethod     7043 non-null   object \n",
            " 18  MonthlyCharges    7043 non-null   float64\n",
            " 19  TotalCharges      7043 non-null   object \n",
            " 20  Churn             7043 non-null   object \n",
            "dtypes: float64(1), int64(2), object(18)\n",
            "memory usage: 1.1+ MB\n",
            "None\n",
            "\n",
            "Missing Values Before Cleaning:\n",
            "\n",
            "customerID          0\n",
            "gender              0\n",
            "SeniorCitizen       0\n",
            "Partner             0\n",
            "Dependents          0\n",
            "tenure              0\n",
            "PhoneService        0\n",
            "MultipleLines       0\n",
            "InternetService     0\n",
            "OnlineSecurity      0\n",
            "OnlineBackup        0\n",
            "DeviceProtection    0\n",
            "TechSupport         0\n",
            "StreamingTV         0\n",
            "StreamingMovies     0\n",
            "Contract            0\n",
            "PaperlessBilling    0\n",
            "PaymentMethod       0\n",
            "MonthlyCharges      0\n",
            "TotalCharges        0\n",
            "Churn               0\n",
            "dtype: int64\n"
          ]
        }
      ]
    },
    {
      "cell_type": "markdown",
      "source": [
        "Handle missing value and clean data"
      ],
      "metadata": {
        "id": "u0ey6Gd_QqA0"
      }
    },
    {
      "cell_type": "code",
      "source": [
        "# Convert TotalCharges to numeric, coerce errors to NaN\n",
        "df['TotalCharges'] = pd.to_numeric(df['TotalCharges'], errors='coerce')\n",
        "\n",
        "# Check for NaN values after conversion\n",
        "print(\"Missing Values After Conversion:\\n\")\n",
        "print(df.isnull().sum())\n",
        "\n",
        "# Fill missing TotalCharges values with the median\n",
        "df['TotalCharges'].fillna(df['TotalCharges'].median(), inplace=True)\n",
        "\n",
        "# Drop irrelevant columns\n",
        "df.drop(columns=['customerID'], inplace=True)\n",
        "\n",
        "print(\"\\nDataset Info After Cleaning:\\n\")\n",
        "print(df.info())\n"
      ],
      "metadata": {
        "colab": {
          "base_uri": "https://localhost:8080/"
        },
        "id": "lr-DMGKgQtNs",
        "outputId": "c2d98f15-a582-4403-8860-94c370bca250"
      },
      "execution_count": 5,
      "outputs": [
        {
          "output_type": "stream",
          "name": "stdout",
          "text": [
            "Missing Values After Conversion:\n",
            "\n",
            "customerID          0\n",
            "gender              0\n",
            "SeniorCitizen       0\n",
            "Partner             0\n",
            "Dependents          0\n",
            "tenure              0\n",
            "PhoneService        0\n",
            "MultipleLines       0\n",
            "InternetService     0\n",
            "OnlineSecurity      0\n",
            "OnlineBackup        0\n",
            "DeviceProtection    0\n",
            "TechSupport         0\n",
            "StreamingTV         0\n",
            "StreamingMovies     0\n",
            "Contract            0\n",
            "PaperlessBilling    0\n",
            "PaymentMethod       0\n",
            "MonthlyCharges      0\n",
            "TotalCharges        0\n",
            "Churn               0\n",
            "dtype: int64\n",
            "\n",
            "Dataset Info After Cleaning:\n",
            "\n",
            "<class 'pandas.core.frame.DataFrame'>\n",
            "RangeIndex: 7043 entries, 0 to 7042\n",
            "Data columns (total 20 columns):\n",
            " #   Column            Non-Null Count  Dtype  \n",
            "---  ------            --------------  -----  \n",
            " 0   gender            7043 non-null   object \n",
            " 1   SeniorCitizen     7043 non-null   int64  \n",
            " 2   Partner           7043 non-null   object \n",
            " 3   Dependents        7043 non-null   object \n",
            " 4   tenure            7043 non-null   int64  \n",
            " 5   PhoneService      7043 non-null   object \n",
            " 6   MultipleLines     7043 non-null   object \n",
            " 7   InternetService   7043 non-null   object \n",
            " 8   OnlineSecurity    7043 non-null   object \n",
            " 9   OnlineBackup      7043 non-null   object \n",
            " 10  DeviceProtection  7043 non-null   object \n",
            " 11  TechSupport       7043 non-null   object \n",
            " 12  StreamingTV       7043 non-null   object \n",
            " 13  StreamingMovies   7043 non-null   object \n",
            " 14  Contract          7043 non-null   object \n",
            " 15  PaperlessBilling  7043 non-null   object \n",
            " 16  PaymentMethod     7043 non-null   object \n",
            " 17  MonthlyCharges    7043 non-null   float64\n",
            " 18  TotalCharges      7043 non-null   float64\n",
            " 19  Churn             7043 non-null   object \n",
            "dtypes: float64(2), int64(2), object(16)\n",
            "memory usage: 1.1+ MB\n",
            "None\n"
          ]
        },
        {
          "output_type": "stream",
          "name": "stderr",
          "text": [
            "<ipython-input-5-9641623b4a74>:9: FutureWarning: A value is trying to be set on a copy of a DataFrame or Series through chained assignment using an inplace method.\n",
            "The behavior will change in pandas 3.0. This inplace method will never work because the intermediate object on which we are setting values always behaves as a copy.\n",
            "\n",
            "For example, when doing 'df[col].method(value, inplace=True)', try using 'df.method({col: value}, inplace=True)' or df[col] = df[col].method(value) instead, to perform the operation inplace on the original object.\n",
            "\n",
            "\n",
            "  df['TotalCharges'].fillna(df['TotalCharges'].median(), inplace=True)\n"
          ]
        }
      ]
    },
    {
      "cell_type": "markdown",
      "source": [
        "Encode Categorical Variables"
      ],
      "metadata": {
        "id": "e9U0w-uxRIE0"
      }
    },
    {
      "cell_type": "code",
      "source": [
        "from sklearn.preprocessing import LabelEncoder\n",
        "\n",
        "# List of categorical columns to encode\n",
        "categorical_cols = [\n",
        "    'gender', 'Partner', 'Dependents', 'PhoneService', 'MultipleLines',\n",
        "    'InternetService', 'OnlineSecurity', 'OnlineBackup',\n",
        "    'DeviceProtection', 'TechSupport', 'StreamingTV', 'StreamingMovies',\n",
        "    'Contract', 'PaperlessBilling', 'PaymentMethod', 'Churn'\n",
        "]\n",
        "\n",
        "# Initialize dictionary to store label encoders\n",
        "label_encoders = {}\n",
        "\n",
        "# Encode each categorical column\n",
        "for col in categorical_cols:\n",
        "    le = LabelEncoder()\n",
        "    df[col] = le.fit_transform(df[col])\n",
        "    label_encoders[col] = le  # Store the encoder for future use\n",
        "\n",
        "print(\"Categorical columns encoded successfully!\")\n",
        "print(df.head())\n"
      ],
      "metadata": {
        "colab": {
          "base_uri": "https://localhost:8080/"
        },
        "id": "IVbLTd60RLOi",
        "outputId": "65b063d3-82b8-4411-d00b-97ad90b10c05"
      },
      "execution_count": 6,
      "outputs": [
        {
          "output_type": "stream",
          "name": "stdout",
          "text": [
            "Categorical columns encoded successfully!\n",
            "   gender  SeniorCitizen  Partner  Dependents  tenure  PhoneService  \\\n",
            "0       0              0        1           0       1             0   \n",
            "1       1              0        0           0      34             1   \n",
            "2       1              0        0           0       2             1   \n",
            "3       1              0        0           0      45             0   \n",
            "4       0              0        0           0       2             1   \n",
            "\n",
            "   MultipleLines  InternetService  OnlineSecurity  OnlineBackup  \\\n",
            "0              1                0               0             2   \n",
            "1              0                0               2             0   \n",
            "2              0                0               2             2   \n",
            "3              1                0               2             0   \n",
            "4              0                1               0             0   \n",
            "\n",
            "   DeviceProtection  TechSupport  StreamingTV  StreamingMovies  Contract  \\\n",
            "0                 0            0            0                0         0   \n",
            "1                 2            0            0                0         1   \n",
            "2                 0            0            0                0         0   \n",
            "3                 2            2            0                0         1   \n",
            "4                 0            0            0                0         0   \n",
            "\n",
            "   PaperlessBilling  PaymentMethod  MonthlyCharges  TotalCharges  Churn  \n",
            "0                 1              2           29.85         29.85      0  \n",
            "1                 0              3           56.95       1889.50      0  \n",
            "2                 1              3           53.85        108.15      1  \n",
            "3                 0              0           42.30       1840.75      0  \n",
            "4                 1              2           70.70        151.65      1  \n"
          ]
        }
      ]
    },
    {
      "cell_type": "markdown",
      "source": [
        "Feature Scaling and Engineering"
      ],
      "metadata": {
        "id": "250tp17KRXtY"
      }
    },
    {
      "cell_type": "code",
      "source": [
        "from sklearn.preprocessing import StandardScaler\n",
        "\n",
        "# Step 1: Scale Numerical Columns\n",
        "scaler = StandardScaler()\n",
        "\n",
        "# Define numerical columns to scale\n",
        "numerical_cols = ['tenure', 'MonthlyCharges', 'TotalCharges']\n",
        "\n",
        "# Scale numerical columns\n",
        "df[numerical_cols] = scaler.fit_transform(df[numerical_cols])\n",
        "print(\"Numerical columns scaled successfully!\")\n",
        "\n",
        "# Step 2: Create Tenure Groups\n",
        "import numpy as np\n",
        "\n",
        "# Revert scaled 'tenure' to its original range for binning\n",
        "df['tenure_original'] = df['tenure'] * scaler.scale_[0] + scaler.mean_[0]\n",
        "df['tenure_original'] = df['tenure_original'].clip(lower=0)  # No negative values\n",
        "\n",
        "# Create dynamic bins and labels\n",
        "bins = [0, 12, 24, 48, 60, df['tenure_original'].max() + 1]\n",
        "labels = ['0-1 Year', '1-2 Years', '2-4 Years', '4-5 Years', '5+ Years']\n",
        "\n",
        "# Bin tenure and create tenure groups\n",
        "df['tenure_group'] = pd.cut(df['tenure_original'], bins=bins, labels=labels)\n",
        "\n",
        "# One-hot encode tenure groups\n",
        "df = pd.get_dummies(df, columns=['tenure_group'], drop_first=True)\n",
        "\n",
        "# Drop temporary 'tenure_original' column\n",
        "df.drop(columns=['tenure_original'], inplace=True)\n",
        "\n",
        "print(\"Tenure categories created and one-hot encoded successfully!\")\n",
        "print(df.head())\n"
      ],
      "metadata": {
        "colab": {
          "base_uri": "https://localhost:8080/"
        },
        "id": "9lBuc5D4RZ7f",
        "outputId": "0bd43292-42c9-406b-bfc8-61cd75ab2d8a"
      },
      "execution_count": 7,
      "outputs": [
        {
          "output_type": "stream",
          "name": "stdout",
          "text": [
            "Numerical columns scaled successfully!\n",
            "Tenure categories created and one-hot encoded successfully!\n",
            "   gender  SeniorCitizen  Partner  Dependents    tenure  PhoneService  \\\n",
            "0       0              0        1           0 -1.277445             0   \n",
            "1       1              0        0           0  0.066327             1   \n",
            "2       1              0        0           0 -1.236724             1   \n",
            "3       1              0        0           0  0.514251             0   \n",
            "4       0              0        0           0 -1.236724             1   \n",
            "\n",
            "   MultipleLines  InternetService  OnlineSecurity  OnlineBackup  ...  \\\n",
            "0              1                0               0             2  ...   \n",
            "1              0                0               2             0  ...   \n",
            "2              0                0               2             2  ...   \n",
            "3              1                0               2             0  ...   \n",
            "4              0                1               0             0  ...   \n",
            "\n",
            "   Contract  PaperlessBilling  PaymentMethod  MonthlyCharges  TotalCharges  \\\n",
            "0         0                 1              2       -1.160323     -0.994242   \n",
            "1         1                 0              3       -0.259629     -0.173244   \n",
            "2         0                 1              3       -0.362660     -0.959674   \n",
            "3         1                 0              0       -0.746535     -0.194766   \n",
            "4         0                 1              2        0.197365     -0.940470   \n",
            "\n",
            "   Churn  tenure_group_1-2 Years  tenure_group_2-4 Years  \\\n",
            "0      0                   False                   False   \n",
            "1      0                   False                    True   \n",
            "2      1                   False                   False   \n",
            "3      0                   False                    True   \n",
            "4      1                   False                   False   \n",
            "\n",
            "   tenure_group_4-5 Years  tenure_group_5+ Years  \n",
            "0                   False                  False  \n",
            "1                   False                  False  \n",
            "2                   False                  False  \n",
            "3                   False                  False  \n",
            "4                   False                  False  \n",
            "\n",
            "[5 rows x 24 columns]\n"
          ]
        }
      ]
    },
    {
      "cell_type": "markdown",
      "source": [
        "Split Dataset and Train Model\n"
      ],
      "metadata": {
        "id": "vhB3BAjIRkJe"
      }
    },
    {
      "cell_type": "code",
      "source": [
        "from sklearn.model_selection import train_test_split\n",
        "from sklearn.ensemble import RandomForestClassifier\n",
        "from sklearn.metrics import classification_report, accuracy_score, confusion_matrix\n",
        "import seaborn as sns\n",
        "import matplotlib.pyplot as plt\n",
        "\n",
        "# Step 1: Split the data\n",
        "X = df.drop(columns=['Churn'])  # Features\n",
        "y = df['Churn']  # Target\n",
        "\n",
        "X_train, X_test, y_train, y_test = train_test_split(X, y, test_size=0.2, random_state=42, stratify=y)\n",
        "\n",
        "# Step 2: Train a Random Forest model\n",
        "model = RandomForestClassifier(\n",
        "    n_estimators=200,  # Number of trees\n",
        "    max_depth=10,      # Tree depth to avoid overfitting\n",
        "    class_weight='balanced',  # Handle class imbalance\n",
        "    random_state=42\n",
        ")\n",
        "model.fit(X_train, y_train)\n",
        "\n",
        "# Step 3: Evaluate the model\n",
        "y_pred = model.predict(X_test)\n",
        "\n",
        "# Classification report and accuracy\n",
        "print(\"Classification Report:\\n\", classification_report(y_test, y_pred))\n",
        "print(\"Accuracy Score:\", accuracy_score(y_test, y_pred))\n",
        "\n",
        "# Confusion Matrix\n",
        "cm = confusion_matrix(y_test, y_pred)\n",
        "sns.heatmap(cm, annot=True, fmt='d', cmap='Blues')\n",
        "plt.title(\"Confusion Matrix\")\n",
        "plt.xlabel(\"Predicted\")\n",
        "plt.ylabel(\"Actual\")\n",
        "plt.show()\n"
      ],
      "metadata": {
        "colab": {
          "base_uri": "https://localhost:8080/",
          "height": 673
        },
        "id": "uqnj-KJcRm0o",
        "outputId": "fc873489-118d-4ca8-ef6a-88f57f3ba11c"
      },
      "execution_count": 8,
      "outputs": [
        {
          "output_type": "stream",
          "name": "stdout",
          "text": [
            "Classification Report:\n",
            "               precision    recall  f1-score   support\n",
            "\n",
            "           0       0.88      0.80      0.84      1035\n",
            "           1       0.55      0.71      0.62       374\n",
            "\n",
            "    accuracy                           0.77      1409\n",
            "   macro avg       0.72      0.75      0.73      1409\n",
            "weighted avg       0.80      0.77      0.78      1409\n",
            "\n",
            "Accuracy Score: 0.7714691270404542\n"
          ]
        },
        {
          "output_type": "display_data",
          "data": {
            "text/plain": [
              "<Figure size 640x480 with 2 Axes>"
            ],
            "image/png": "[encoded data removed]"
          },
          "metadata": {}
        }
      ]
    },
    {
      "cell_type": "markdown",
      "source": [
        "Improvement: Handle Class Imbalance with SMOTE"
      ],
      "metadata": {
        "id": "EwGqeixrR6AC"
      }
    },
    {
      "cell_type": "code",
      "source": [
        "from imblearn.over_sampling import SMOTE\n",
        "\n",
        "# Resample training data using SMOTE\n",
        "smote = SMOTE(random_state=42)\n",
        "X_train_resampled, y_train_resampled = smote.fit_resample(X_train, y_train)\n",
        "\n",
        "print(f\"Before Resampling: {y_train.value_counts()}\")\n",
        "print(f\"After Resampling: {pd.Series(y_train_resampled).value_counts()}\")\n",
        "\n",
        "# Train the model again with resampled data\n",
        "model = RandomForestClassifier(\n",
        "    n_estimators=200,\n",
        "    max_depth=10,\n",
        "    class_weight='balanced',\n",
        "    random_state=42\n",
        ")\n",
        "model.fit(X_train_resampled, y_train_resampled)\n",
        "\n",
        "# Evaluate on the original test set\n",
        "y_pred_resampled = model.predict(X_test)\n",
        "\n",
        "print(\"Classification Report After Resampling:\\n\", classification_report(y_test, y_pred_resampled))\n"
      ],
      "metadata": {
        "colab": {
          "base_uri": "https://localhost:8080/"
        },
        "id": "CxJiV3-uR-S0",
        "outputId": "ca1eddd0-f017-430a-f0ab-62b019731f26"
      },
      "execution_count": 9,
      "outputs": [
        {
          "output_type": "stream",
          "name": "stderr",
          "text": [
            "/usr/local/lib/python3.10/dist-packages/sklearn/base.py:474: FutureWarning: `BaseEstimator._validate_data` is deprecated in 1.6 and will be removed in 1.7. Use `sklearn.utils.validation.validate_data` instead. This function becomes public and is part of the scikit-learn developer API.\n",
            "  warnings.warn(\n",
            "/usr/local/lib/python3.10/dist-packages/sklearn/utils/_tags.py:354: FutureWarning: The SMOTE or classes from which it inherits use `_get_tags` and `_more_tags`. Please define the `__sklearn_tags__` method, or inherit from `sklearn.base.BaseEstimator` and/or other appropriate mixins such as `sklearn.base.TransformerMixin`, `sklearn.base.ClassifierMixin`, `sklearn.base.RegressorMixin`, and `sklearn.base.OutlierMixin`. From scikit-learn 1.7, not defining `__sklearn_tags__` will raise an error.\n",
            "  warnings.warn(\n"
          ]
        },
        {
          "output_type": "stream",
          "name": "stdout",
          "text": [
            "Before Resampling: Churn\n",
            "0    4139\n",
            "1    1495\n",
            "Name: count, dtype: int64\n",
            "After Resampling: Churn\n",
            "0    4139\n",
            "1    4139\n",
            "Name: count, dtype: int64\n",
            "Classification Report After Resampling:\n",
            "               precision    recall  f1-score   support\n",
            "\n",
            "           0       0.89      0.76      0.82      1035\n",
            "           1       0.53      0.75      0.62       374\n",
            "\n",
            "    accuracy                           0.76      1409\n",
            "   macro avg       0.71      0.76      0.72      1409\n",
            "weighted avg       0.80      0.76      0.77      1409\n",
            "\n"
          ]
        }
      ]
    },
    {
      "cell_type": "markdown",
      "source": [
        "Tune Hyperparameters"
      ],
      "metadata": {
        "id": "0AMf7lVWSNrN"
      }
    },
    {
      "cell_type": "code",
      "source": [
        "from sklearn.model_selection import GridSearchCV\n",
        "\n",
        "# Define hyperparameter grid\n",
        "param_grid = {\n",
        "    'n_estimators': [100, 200, 300],\n",
        "    'max_depth': [5, 10, 15],\n",
        "    'min_samples_split': [2, 5, 10]\n",
        "}\n",
        "\n",
        "# Perform grid search\n",
        "grid_search = GridSearchCV(\n",
        "    estimator=RandomForestClassifier(random_state=42),\n",
        "    param_grid=param_grid,\n",
        "    scoring='f1',  # Focus on F1 score to balance precision and recall\n",
        "    cv=5,\n",
        "    verbose=2\n",
        ")\n",
        "grid_search.fit(X_train_resampled, y_train_resampled)\n",
        "\n",
        "# Best parameters and retrain model\n",
        "best_params = grid_search.best_params_\n",
        "print(f\"Best Parameters: {best_params}\")\n",
        "\n",
        "best_model = RandomForestClassifier(**best_params, random_state=42)\n",
        "best_model.fit(X_train_resampled, y_train_resampled)\n",
        "\n",
        "# Evaluate on test data\n",
        "y_pred_best = best_model.predict(X_test)\n",
        "print(\"Classification Report After Tuning:\\n\", classification_report(y_test, y_pred_best))\n"
      ],
      "metadata": {
        "colab": {
          "base_uri": "https://localhost:8080/"
        },
        "id": "SXPVT1cnSQNh",
        "outputId": "af7883eb-c4e5-4ee4-944c-8ebb0c309180"
      },
      "execution_count": 10,
      "outputs": [
        {
          "output_type": "stream",
          "name": "stdout",
          "text": [
            "Fitting 5 folds for each of 27 candidates, totalling 135 fits\n",
            "[CV] END .max_depth=5, min_samples_split=2, n_estimators=100; total time=   1.0s\n",
            "[CV] END .max_depth=5, min_samples_split=2, n_estimators=100; total time=   0.6s\n",
            "[CV] END .max_depth=5, min_samples_split=2, n_estimators=100; total time=   0.5s\n",
            "[CV] END .max_depth=5, min_samples_split=2, n_estimators=100; total time=   0.5s\n",
            "[CV] END .max_depth=5, min_samples_split=2, n_estimators=100; total time=   0.5s\n",
            "[CV] END .max_depth=5, min_samples_split=2, n_estimators=200; total time=   1.0s\n",
            "[CV] END .max_depth=5, min_samples_split=2, n_estimators=200; total time=   1.0s\n",
            "[CV] END .max_depth=5, min_samples_split=2, n_estimators=200; total time=   1.0s\n",
            "[CV] END .max_depth=5, min_samples_split=2, n_estimators=200; total time=   1.0s\n",
            "[CV] END .max_depth=5, min_samples_split=2, n_estimators=200; total time=   1.0s\n",
            "[CV] END .max_depth=5, min_samples_split=2, n_estimators=300; total time=   1.4s\n",
            "[CV] END .max_depth=5, min_samples_split=2, n_estimators=300; total time=   2.2s\n",
            "[CV] END .max_depth=5, min_samples_split=2, n_estimators=300; total time=   1.9s\n",
            "[CV] END .max_depth=5, min_samples_split=2, n_estimators=300; total time=   1.4s\n",
            "[CV] END .max_depth=5, min_samples_split=2, n_estimators=300; total time=   1.4s\n",
            "[CV] END .max_depth=5, min_samples_split=5, n_estimators=100; total time=   0.5s\n",
            "[CV] END .max_depth=5, min_samples_split=5, n_estimators=100; total time=   0.5s\n",
            "[CV] END .max_depth=5, min_samples_split=5, n_estimators=100; total time=   0.5s\n",
            "[CV] END .max_depth=5, min_samples_split=5, n_estimators=100; total time=   0.5s\n",
            "[CV] END .max_depth=5, min_samples_split=5, n_estimators=100; total time=   0.5s\n",
            "[CV] END .max_depth=5, min_samples_split=5, n_estimators=200; total time=   1.0s\n",
            "[CV] END .max_depth=5, min_samples_split=5, n_estimators=200; total time=   1.0s\n",
            "[CV] END .max_depth=5, min_samples_split=5, n_estimators=200; total time=   1.0s\n",
            "[CV] END .max_depth=5, min_samples_split=5, n_estimators=200; total time=   1.0s\n",
            "[CV] END .max_depth=5, min_samples_split=5, n_estimators=200; total time=   1.3s\n",
            "[CV] END .max_depth=5, min_samples_split=5, n_estimators=300; total time=   2.2s\n",
            "[CV] END .max_depth=5, min_samples_split=5, n_estimators=300; total time=   1.5s\n",
            "[CV] END .max_depth=5, min_samples_split=5, n_estimators=300; total time=   1.4s\n",
            "[CV] END .max_depth=5, min_samples_split=5, n_estimators=300; total time=   1.4s\n",
            "[CV] END .max_depth=5, min_samples_split=5, n_estimators=300; total time=   1.4s\n",
            "[CV] END max_depth=5, min_samples_split=10, n_estimators=100; total time=   0.5s\n",
            "[CV] END max_depth=5, min_samples_split=10, n_estimators=100; total time=   0.5s\n",
            "[CV] END max_depth=5, min_samples_split=10, n_estimators=100; total time=   0.5s\n",
            "[CV] END max_depth=5, min_samples_split=10, n_estimators=100; total time=   0.5s\n",
            "[CV] END max_depth=5, min_samples_split=10, n_estimators=100; total time=   0.5s\n",
            "[CV] END max_depth=5, min_samples_split=10, n_estimators=200; total time=   1.0s\n",
            "[CV] END max_depth=5, min_samples_split=10, n_estimators=200; total time=   1.0s\n",
            "[CV] END max_depth=5, min_samples_split=10, n_estimators=200; total time=   1.5s\n",
            "[CV] END max_depth=5, min_samples_split=10, n_estimators=200; total time=   1.5s\n",
            "[CV] END max_depth=5, min_samples_split=10, n_estimators=200; total time=   1.2s\n",
            "[CV] END max_depth=5, min_samples_split=10, n_estimators=300; total time=   1.5s\n",
            "[CV] END max_depth=5, min_samples_split=10, n_estimators=300; total time=   1.4s\n",
            "[CV] END max_depth=5, min_samples_split=10, n_estimators=300; total time=   1.4s\n",
            "[CV] END max_depth=5, min_samples_split=10, n_estimators=300; total time=   1.4s\n",
            "[CV] END max_depth=5, min_samples_split=10, n_estimators=300; total time=   1.4s\n",
            "[CV] END max_depth=10, min_samples_split=2, n_estimators=100; total time=   0.8s\n",
            "[CV] END max_depth=10, min_samples_split=2, n_estimators=100; total time=   0.7s\n",
            "[CV] END max_depth=10, min_samples_split=2, n_estimators=100; total time=   0.8s\n",
            "[CV] END max_depth=10, min_samples_split=2, n_estimators=100; total time=   1.1s\n",
            "[CV] END max_depth=10, min_samples_split=2, n_estimators=100; total time=   1.1s\n",
            "[CV] END max_depth=10, min_samples_split=2, n_estimators=200; total time=   2.0s\n",
            "[CV] END max_depth=10, min_samples_split=2, n_estimators=200; total time=   1.5s\n",
            "[CV] END max_depth=10, min_samples_split=2, n_estimators=200; total time=   1.4s\n",
            "[CV] END max_depth=10, min_samples_split=2, n_estimators=200; total time=   1.5s\n",
            "[CV] END max_depth=10, min_samples_split=2, n_estimators=200; total time=   1.5s\n",
            "[CV] END max_depth=10, min_samples_split=2, n_estimators=300; total time=   2.2s\n",
            "[CV] END max_depth=10, min_samples_split=2, n_estimators=300; total time=   2.6s\n",
            "[CV] END max_depth=10, min_samples_split=2, n_estimators=300; total time=   2.9s\n",
            "[CV] END max_depth=10, min_samples_split=2, n_estimators=300; total time=   2.2s\n",
            "[CV] END max_depth=10, min_samples_split=2, n_estimators=300; total time=   2.2s\n",
            "[CV] END max_depth=10, min_samples_split=5, n_estimators=100; total time=   0.8s\n",
            "[CV] END max_depth=10, min_samples_split=5, n_estimators=100; total time=   0.7s\n",
            "[CV] END max_depth=10, min_samples_split=5, n_estimators=100; total time=   0.7s\n",
            "[CV] END max_depth=10, min_samples_split=5, n_estimators=100; total time=   0.7s\n",
            "[CV] END max_depth=10, min_samples_split=5, n_estimators=100; total time=   0.7s\n",
            "[CV] END max_depth=10, min_samples_split=5, n_estimators=200; total time=   1.7s\n",
            "[CV] END max_depth=10, min_samples_split=5, n_estimators=200; total time=   2.2s\n",
            "[CV] END max_depth=10, min_samples_split=5, n_estimators=200; total time=   1.8s\n",
            "[CV] END max_depth=10, min_samples_split=5, n_estimators=200; total time=   1.5s\n",
            "[CV] END max_depth=10, min_samples_split=5, n_estimators=200; total time=   1.4s\n",
            "[CV] END max_depth=10, min_samples_split=5, n_estimators=300; total time=   2.2s\n",
            "[CV] END max_depth=10, min_samples_split=5, n_estimators=300; total time=   2.2s\n",
            "[CV] END max_depth=10, min_samples_split=5, n_estimators=300; total time=   3.1s\n",
            "[CV] END max_depth=10, min_samples_split=5, n_estimators=300; total time=   3.5s\n",
            "[CV] END max_depth=10, min_samples_split=5, n_estimators=300; total time=   2.2s\n",
            "[CV] END max_depth=10, min_samples_split=10, n_estimators=100; total time=   0.7s\n",
            "[CV] END max_depth=10, min_samples_split=10, n_estimators=100; total time=   0.7s\n",
            "[CV] END max_depth=10, min_samples_split=10, n_estimators=100; total time=   0.7s\n",
            "[CV] END max_depth=10, min_samples_split=10, n_estimators=100; total time=   0.7s\n",
            "[CV] END max_depth=10, min_samples_split=10, n_estimators=100; total time=   0.7s\n",
            "[CV] END max_depth=10, min_samples_split=10, n_estimators=200; total time=   1.4s\n",
            "[CV] END max_depth=10, min_samples_split=10, n_estimators=200; total time=   1.4s\n",
            "[CV] END max_depth=10, min_samples_split=10, n_estimators=200; total time=   1.9s\n",
            "[CV] END max_depth=10, min_samples_split=10, n_estimators=200; total time=   2.1s\n",
            "[CV] END max_depth=10, min_samples_split=10, n_estimators=200; total time=   1.4s\n",
            "[CV] END max_depth=10, min_samples_split=10, n_estimators=300; total time=   2.1s\n",
            "[CV] END max_depth=10, min_samples_split=10, n_estimators=300; total time=   2.1s\n",
            "[CV] END max_depth=10, min_samples_split=10, n_estimators=300; total time=   2.1s\n",
            "[CV] END max_depth=10, min_samples_split=10, n_estimators=300; total time=   2.2s\n",
            "[CV] END max_depth=10, min_samples_split=10, n_estimators=300; total time=   3.2s\n",
            "[CV] END max_depth=15, min_samples_split=2, n_estimators=100; total time=   1.0s\n",
            "[CV] END max_depth=15, min_samples_split=2, n_estimators=100; total time=   0.9s\n",
            "[CV] END max_depth=15, min_samples_split=2, n_estimators=100; total time=   0.9s\n",
            "[CV] END max_depth=15, min_samples_split=2, n_estimators=100; total time=   0.9s\n",
            "[CV] END max_depth=15, min_samples_split=2, n_estimators=100; total time=   0.9s\n",
            "[CV] END max_depth=15, min_samples_split=2, n_estimators=200; total time=   1.9s\n",
            "[CV] END max_depth=15, min_samples_split=2, n_estimators=200; total time=   1.8s\n",
            "[CV] END max_depth=15, min_samples_split=2, n_estimators=200; total time=   1.9s\n",
            "[CV] END max_depth=15, min_samples_split=2, n_estimators=200; total time=   2.7s\n",
            "[CV] END max_depth=15, min_samples_split=2, n_estimators=200; total time=   2.1s\n",
            "[CV] END max_depth=15, min_samples_split=2, n_estimators=300; total time=   2.7s\n",
            "[CV] END max_depth=15, min_samples_split=2, n_estimators=300; total time=   2.8s\n",
            "[CV] END max_depth=15, min_samples_split=2, n_estimators=300; total time=   2.8s\n",
            "[CV] END max_depth=15, min_samples_split=2, n_estimators=300; total time=   3.9s\n",
            "[CV] END max_depth=15, min_samples_split=2, n_estimators=300; total time=   2.8s\n",
            "[CV] END max_depth=15, min_samples_split=5, n_estimators=100; total time=   0.9s\n",
            "[CV] END max_depth=15, min_samples_split=5, n_estimators=100; total time=   0.9s\n",
            "[CV] END max_depth=15, min_samples_split=5, n_estimators=100; total time=   0.9s\n",
            "[CV] END max_depth=15, min_samples_split=5, n_estimators=100; total time=   0.9s\n",
            "[CV] END max_depth=15, min_samples_split=5, n_estimators=100; total time=   0.9s\n",
            "[CV] END max_depth=15, min_samples_split=5, n_estimators=200; total time=   1.7s\n",
            "[CV] END max_depth=15, min_samples_split=5, n_estimators=200; total time=   2.1s\n",
            "[CV] END max_depth=15, min_samples_split=5, n_estimators=200; total time=   2.6s\n",
            "[CV] END max_depth=15, min_samples_split=5, n_estimators=200; total time=   1.7s\n",
            "[CV] END max_depth=15, min_samples_split=5, n_estimators=200; total time=   1.7s\n",
            "[CV] END max_depth=15, min_samples_split=5, n_estimators=300; total time=   2.6s\n",
            "[CV] END max_depth=15, min_samples_split=5, n_estimators=300; total time=   2.6s\n",
            "[CV] END max_depth=15, min_samples_split=5, n_estimators=300; total time=   3.3s\n",
            "[CV] END max_depth=15, min_samples_split=5, n_estimators=300; total time=   2.9s\n",
            "[CV] END max_depth=15, min_samples_split=5, n_estimators=300; total time=   2.6s\n",
            "[CV] END max_depth=15, min_samples_split=10, n_estimators=100; total time=   0.8s\n",
            "[CV] END max_depth=15, min_samples_split=10, n_estimators=100; total time=   0.9s\n",
            "[CV] END max_depth=15, min_samples_split=10, n_estimators=100; total time=   0.8s\n",
            "[CV] END max_depth=15, min_samples_split=10, n_estimators=100; total time=   0.8s\n",
            "[CV] END max_depth=15, min_samples_split=10, n_estimators=100; total time=   0.8s\n",
            "[CV] END max_depth=15, min_samples_split=10, n_estimators=200; total time=   1.9s\n",
            "[CV] END max_depth=15, min_samples_split=10, n_estimators=200; total time=   2.4s\n",
            "[CV] END max_depth=15, min_samples_split=10, n_estimators=200; total time=   1.8s\n",
            "[CV] END max_depth=15, min_samples_split=10, n_estimators=200; total time=   1.7s\n",
            "[CV] END max_depth=15, min_samples_split=10, n_estimators=200; total time=   1.6s\n",
            "[CV] END max_depth=15, min_samples_split=10, n_estimators=300; total time=   2.5s\n",
            "[CV] END max_depth=15, min_samples_split=10, n_estimators=300; total time=   2.5s\n",
            "[CV] END max_depth=15, min_samples_split=10, n_estimators=300; total time=   3.6s\n",
            "[CV] END max_depth=15, min_samples_split=10, n_estimators=300; total time=   2.5s\n",
            "[CV] END max_depth=15, min_samples_split=10, n_estimators=300; total time=   2.5s\n",
            "Best Parameters: {'max_depth': 15, 'min_samples_split': 2, 'n_estimators': 200}\n",
            "Classification Report After Tuning:\n",
            "               precision    recall  f1-score   support\n",
            "\n",
            "           0       0.87      0.80      0.83      1035\n",
            "           1       0.55      0.68      0.60       374\n",
            "\n",
            "    accuracy                           0.77      1409\n",
            "   macro avg       0.71      0.74      0.72      1409\n",
            "weighted avg       0.79      0.77      0.77      1409\n",
            "\n"
          ]
        }
      ]
    },
    {
      "cell_type": "markdown",
      "source": [
        "Adjusting Threshold"
      ],
      "metadata": {
        "id": "9E2HO_0lUJCb"
      }
    },
    {
      "cell_type": "code",
      "source": [
        "from sklearn.metrics import precision_recall_curve\n",
        "import numpy as np\n",
        "\n",
        "# Get probabilities for the positive class (Churn)\n",
        "y_proba = best_model.predict_proba(X_test)[:, 1]\n",
        "\n",
        "# Compute precision-recall curve\n",
        "precision, recall, thresholds = precision_recall_curve(y_test, y_proba)\n",
        "\n",
        "# Calculate F1 score for each threshold\n",
        "f1_scores = 2 * (precision * recall) / (precision + recall + 1e-10)\n",
        "optimal_idx = np.argmax(f1_scores)\n",
        "optimal_threshold = thresholds[optimal_idx]\n",
        "\n",
        "print(f\"Optimal Threshold: {optimal_threshold}\")\n",
        "\n",
        "# Predict using the adjusted threshold\n",
        "y_pred_adjusted = (y_proba >= optimal_threshold).astype(int)\n",
        "\n",
        "# Evaluate predictions\n",
        "from sklearn.metrics import classification_report\n",
        "print(\"Classification Report with Adjusted Threshold:\\n\")\n",
        "print(classification_report(y_test, y_pred_adjusted))\n"
      ],
      "metadata": {
        "colab": {
          "base_uri": "https://localhost:8080/"
        },
        "id": "4fe0RGHzUH8_",
        "outputId": "13b84f47-4e7c-400e-9762-c23aac44ca61"
      },
      "execution_count": 12,
      "outputs": [
        {
          "output_type": "stream",
          "name": "stdout",
          "text": [
            "Optimal Threshold: 0.35535833949248585\n",
            "Classification Report with Adjusted Threshold:\n",
            "\n",
            "              precision    recall  f1-score   support\n",
            "\n",
            "           0       0.92      0.71      0.80      1035\n",
            "           1       0.50      0.82      0.62       374\n",
            "\n",
            "    accuracy                           0.74      1409\n",
            "   macro avg       0.71      0.76      0.71      1409\n",
            "weighted avg       0.81      0.74      0.75      1409\n",
            "\n"
          ]
        }
      ]
    },
    {
      "cell_type": "markdown",
      "source": [
        "Save the Artifacts"
      ],
      "metadata": {
        "id": "FQqyEMHhVagG"
      }
    },
    {
      "cell_type": "code",
      "source": [
        "import joblib\n",
        "\n",
        "# Save the trained model\n",
        "joblib.dump(best_model, \"final_churn_model.pkl\")\n",
        "\n",
        "# Save the scaler\n",
        "joblib.dump(scaler, \"scaler.pkl\")\n",
        "\n",
        "# Save the label encoders\n",
        "joblib.dump(label_encoders, \"label_encoders.pkl\")\n",
        "\n",
        "# Save the feature columns for input preprocessing\n",
        "joblib.dump(X.columns, \"feature_columns.pkl\")\n",
        "\n",
        "# Save the optimal threshold\n",
        "joblib.dump({\"optimal_threshold\": optimal_threshold}, \"optimal_threshold.pkl\")\n",
        "\n",
        "print(\"Model and artifacts saved successfully!\")\n"
      ],
      "metadata": {
        "colab": {
          "base_uri": "https://localhost:8080/"
        },
        "id": "PO9Zuo7kVcZs",
        "outputId": "dc5bba02-270b-471f-e31a-fc81fa799772"
      },
      "execution_count": 13,
      "outputs": [
        {
          "output_type": "stream",
          "name": "stdout",
          "text": [
            "Model and artifacts saved successfully!\n"
          ]
        }
      ]
    },
    {
      "cell_type": "markdown",
      "source": [],
      "metadata": {
        "id": "obClo2yNVe9J"
      }
    }
  ]
}